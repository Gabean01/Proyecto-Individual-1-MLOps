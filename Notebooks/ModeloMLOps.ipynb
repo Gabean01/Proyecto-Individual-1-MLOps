{
 "cells": [
  {
   "cell_type": "markdown",
   "metadata": {},
   "source": [
    "# Modelo de Recomendacion Item-Item"
   ]
  },
  {
   "cell_type": "code",
   "execution_count": 1,
   "metadata": {},
   "outputs": [],
   "source": [
    "import pandas as pd\n",
    "from sklearn.feature_extraction.text import CountVectorizer\n",
    "from sklearn.metrics.pairwise import cosine_similarity\n"
   ]
  },
  {
   "cell_type": "code",
   "execution_count": 2,
   "metadata": {},
   "outputs": [],
   "source": [
    "# Cargar el conjunto de datos\n",
    "df_juegos = pd.read_parquet(\"C:\\\\Users\\\\Gary Alexander Bean\\\\Desktop\\\\Proyecto-Individual-1-MLOps\\\\Datasets\\\\ArchivosPARQUET\\\\steam_games_limpio.parquet\")"
   ]
  },
  {
   "cell_type": "code",
   "execution_count": 3,
   "metadata": {},
   "outputs": [],
   "source": [
    "# Seleccionar las columnas necesarias\n",
    "df_juegos_seleccionados = df_juegos.loc[:, [\"specs\", \"item_id\", \"name\"]]"
   ]
  },
  {
   "cell_type": "code",
   "execution_count": 4,
   "metadata": {},
   "outputs": [],
   "source": [
    "# Convertir 'item_id' a tipo entero\n",
    "df_juegos_seleccionados[\"item_id\"] = df_juegos_seleccionados[\"item_id\"].astype(int)\n",
    "\n",
    "# Limpiar la columna 'specs'\n",
    "df_juegos_seleccionados['specs'] = df_juegos_seleccionados['specs'].apply(lambda x: str(x).replace('[', '').replace(']', '').replace(\"'\", ''))"
   ]
  },
  {
   "cell_type": "markdown",
   "metadata": {},
   "source": [
    "## Creación de un Vectorizador de Texto (CountVectorizer)\n",
    "\n",
    "### Propósito\n",
    "\n",
    "El objetivo principal del CountVectorizer es transformar datos de texto, específicamente la columna 'specs' en este caso, en representaciones numéricas comprensibles para algoritmos de aprendizaje automático. Al convertir el texto en vectores numéricos, permitimos que los modelos puedan procesar y comprender la información textual de manera eficiente.\n",
    "\n",
    "### Proceso\n",
    "\n",
    "El CountVectorizer opera asignando un índice único a cada palabra distinta que aparece en el texto y luego contando la frecuencia de cada una de estas palabras en cada documento (en este contexto, cada juego). En esencia, cada documento se convierte en un vector, donde cada posición del vector corresponde a una palabra única y el valor en esa posición representa la frecuencia de esa palabra en el documento. Este enfoque nos permite capturar la estructura y el contenido del texto de manera cuantitativa, lo que resulta esencial para el análisis y la manipulación subsiguientes.\n",
    "\n",
    "### Importancia\n",
    "\n",
    "La representación vectorial resultante es crucial para una amplia gama de aplicaciones en procesamiento de lenguaje natural y aprendizaje automático. Por ejemplo, habilita la comparación de documentos mediante métricas de similitud, como el coseno, que operan directamente sobre vectores numéricos. Además, esta representación permite la aplicación de técnicas más avanzadas, como la clasificación de documentos, la agrupación de temas y el análisis de sentimientos, entre otros. En resumen, el CountVectorizer es una herramienta fundamental para convertir datos textuales en formatos que puedan ser aprovechados por modelos de aprendizaje automático, abriendo así las puertas a un análisis más profundo y significativo del texto."
   ]
  },
  {
   "cell_type": "code",
   "execution_count": 5,
   "metadata": {},
   "outputs": [],
   "source": [
    "# Crear un vectorizador de texto\n",
    "vectorizador_texto = CountVectorizer()\n",
    "vectores_texto = vectorizador_texto.fit_transform(df_juegos_seleccionados['specs']).toarray()\n"
   ]
  },
  {
   "cell_type": "code",
   "execution_count": 6,
   "metadata": {},
   "outputs": [],
   "source": [
    "# Calcular la similitud del coseno entre vectores\n",
    "similitud_cos = cosine_similarity(vectores_texto)"
   ]
  },
  {
   "cell_type": "code",
   "execution_count": 7,
   "metadata": {},
   "outputs": [],
   "source": [
    "def recomendacion_juego(id_producto):\n",
    "    \"\"\"\n",
    "    Genera una lista de juegos recomendados similares al juego dado su ID.\n",
    "\n",
    "    Parámetros:\n",
    "    - id_producto (int): El ID del juego para el cual se desean obtener recomendaciones.\n",
    "\n",
    "    Retorna:\n",
    "    - list: Una lista con los nombres de los juegos recomendados.\n",
    "    \"\"\"\n",
    "    # Se busca el índice del juego en el DataFrame original\n",
    "    indice_producto = df_juegos_seleccionados[df_juegos_seleccionados[\"item_id\"] == id_producto].index[0]\n",
    "    \n",
    "    # Cálculo de similitudes\n",
    "    distancias = similitud_cos[indice_producto]\n",
    "    \n",
    "    # Las distancias se ordenan de manera descendente, y se seleccionan los cinco juegos más similares (excluyendo el juego de entrada)\n",
    "    lista_juegos_similares = sorted(list(enumerate(distancias)), reverse=True, key=lambda x: x[1])[1:6]\n",
    "    \n",
    "    # Lista de títulos recomendados\n",
    "    juegos_recomendados = [df_juegos_seleccionados.iloc[i[0]]['name'] for i in lista_juegos_similares]\n",
    "    \n",
    "    return juegos_recomendados"
   ]
  },
  {
   "cell_type": "code",
   "execution_count": 9,
   "metadata": {},
   "outputs": [
    {
     "name": "stdout",
     "output_type": "stream",
     "text": [
      "['弹炸人2222', 'Uncanny Islands', 'Beach Rules', 'Planetarium 2 - Zen Odyssey', 'The Warrior Of Treasures']\n"
     ]
    }
   ],
   "source": [
    "# Ejemplo de uso:\n",
    "id_producto = 761140\n",
    "resultado = recomendacion_juego(id_producto)\n",
    "print(resultado)"
   ]
  }
 ],
 "metadata": {
  "kernelspec": {
   "display_name": "Python 3",
   "language": "python",
   "name": "python3"
  },
  "language_info": {
   "codemirror_mode": {
    "name": "ipython",
    "version": 3
   },
   "file_extension": ".py",
   "mimetype": "text/x-python",
   "name": "python",
   "nbconvert_exporter": "python",
   "pygments_lexer": "ipython3",
   "version": "3.12.0"
  }
 },
 "nbformat": 4,
 "nbformat_minor": 2
}
