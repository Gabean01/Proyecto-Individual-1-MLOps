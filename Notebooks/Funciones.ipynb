{
 "cells": [
  {
   "cell_type": "markdown",
   "metadata": {},
   "source": [
    "# Funciones para los Endpoints proporcionados\n",
    "En esta sección, nuestro enfoque estará en utilizar los archivos generados en el notebook de Consultas, los cuales serán consumidos por la API. El objetivo principal es proporcionar respuestas a los Endpoints y a los Modelos de Machine Learning de manera rápida y eficiente durante la ejecución de la API. Para lograr esto, desarrollaremos funciones específicas que permitirán acceder y procesar los datos necesarios de manera óptima, asegurando un rendimiento adecuado de la API."
   ]
  },
  {
   "cell_type": "code",
   "execution_count": 1,
   "metadata": {},
   "outputs": [],
   "source": [
    "import pandas as pd\n",
    "import os"
   ]
  }
 ],
 "metadata": {
  "kernelspec": {
   "display_name": "Python 3",
   "language": "python",
   "name": "python3"
  },
  "language_info": {
   "codemirror_mode": {
    "name": "ipython",
    "version": 3
   },
   "file_extension": ".py",
   "mimetype": "text/x-python",
   "name": "python",
   "nbconvert_exporter": "python",
   "pygments_lexer": "ipython3",
   "version": "3.12.0"
  }
 },
 "nbformat": 4,
 "nbformat_minor": 2
}
