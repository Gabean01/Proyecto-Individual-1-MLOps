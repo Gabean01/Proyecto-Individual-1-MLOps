{
 "cells": [
  {
   "cell_type": "markdown",
   "metadata": {},
   "source": [
    "# Funciones para los Endpoints proporcionados\n",
    "En esta sección, nuestro enfoque estará en utilizar los archivos generados en el notebook de Consultas, los cuales serán consumidos por la API. El objetivo principal es proporcionar respuestas a los Endpoints y a los Modelos de Machine Learning de manera rápida y eficiente durante la ejecución de la API. Para lograr esto, desarrollaremos funciones específicas que permitirán acceder y procesar los datos necesarios de manera óptima, asegurando un rendimiento adecuado de la API."
   ]
  },
  {
   "cell_type": "code",
   "execution_count": 1,
   "metadata": {},
   "outputs": [],
   "source": [
    "import pandas as pd\n",
    "import os"
   ]
  },
  {
   "cell_type": "code",
   "execution_count": 2,
   "metadata": {},
   "outputs": [],
   "source": [
    "# Cargar los datos limpios\n",
    "df_UserItems = pd.read_parquet(\"C:\\\\Users\\\\Gary Alexander Bean\\\\Desktop\\\\Proyecto-Individual-1-MLOps\\\\Datasets\\\\ArchivosPARQUET\\\\user_items_limpio.parquet\")\n",
    "df_UserReviews = pd.read_parquet(\"C:\\\\Users\\\\Gary Alexander Bean\\\\Desktop\\\\Proyecto-Individual-1-MLOps\\\\Datasets\\\\ArchivosPARQUET\\\\user_reviews_limpio.parquet\")\n",
    "df_SteamGames = pd.read_parquet(\"C:\\\\Users\\\\Gary Alexander Bean\\\\Desktop\\\\Proyecto-Individual-1-MLOps\\\\Datasets\\\\ArchivosPARQUET\\\\steam_games_limpio.parquet\")\n",
    "df_Recomendacion=pd.read_parquet(\"C:\\\\Users\\\\Gary Alexander Bean\\\\Desktop\\\\Proyecto-Individual-1-MLOps\\\\Datasets\\\\ArchivosPARQUET\\\\recomendacion_item.parquet\")"
   ]
  },
  {
   "cell_type": "markdown",
   "metadata": {},
   "source": [
    "# Endpoint 1\n",
    "\n",
    "- **def developer( desarrollador : str ):** Cantidad de items y porcentaje de contenido Free por año según empresa desarrolladora. Ejemplo de retorno: \n",
    "\n",
    "Año\t   Cantidad de Items  \tContenido Free\n",
    "2023\t     50\t                27%\n",
    "2022\t     45\t                25%\n",
    "xxxx\t     xx\t                xx%"
   ]
  },
  {
   "cell_type": "code",
   "execution_count": 3,
   "metadata": {},
   "outputs": [],
   "source": [
    "# Funcion para el endpoint 'developer'\n",
    "def developer(desarrollador: str):\n",
    "    # Filtrar el DataFrame de juegos por la desarrolladora especifica\n",
    "    developer_df = df_SteamGames[df_SteamGames['developer']== desarrollador]\n",
    "\n",
    "    # Contar la cantidad de juegos y calcular el porcentaje de contenido Free por año\n",
    "    developer_data = developer_df.groupby('year').agg({'item_id': 'count', 'Free to Play': 'mean'}).reset_index()\n",
    "    developer_data.rename(columns={'item_id': 'Cantidad de Items', 'Free to play': 'Contenido Free'}, inplace=True)\n",
    "    developer_data['Contenido Free']= developer_data['Contenido Free'].apply(lambda x: f\"{x: .0%}\")\n",
    "\n",
    "    # Convertir el resultado a formato JSON\n",
    "    result = developer_data.to_dict(orient='records')\n",
    "    return result\n"
   ]
  },
  {
   "cell_type": "markdown",
   "metadata": {},
   "source": [
    "# Endpoint 2\n",
    "- **def userdata( User_id : str ):** Debe devolver cantidad de dinero gastado por el usuario, el porcentaje de recomendación en base a reviews.recommend y cantidad de items.\n",
    "Ejemplo de retorno: {\"Usuario X\" : us213ndjss09sdf, \"Dinero gastado\": 200 USD, \"% de recomendación\": 20%, \"cantidad de items\": 5}"
   ]
  },
  {
   "cell_type": "code",
   "execution_count": 4,
   "metadata": {},
   "outputs": [],
   "source": [
    "# Funcion para el endpoint 'userdata'\n",
    "def userdata(User_id: str):\n",
    "    # Filtrar el DataFrame de reseñas por el usuario especifico\n",
    "    user_df = df_UserReviews[df_UserReviews['item_id'] == User_id]\n",
    "\n",
    "    # Calcular el dinero gastado, el porcentaje de recomendacion y la cantidad de items\n",
    "    money_spent = user_df['price'].sum()\n",
    "    recomend_percentage = user_df['porcentaje'].mean()\n",
    "    items_count = len(user_df)\n",
    "\n",
    "    # Convertir el resultado a formato JSON\n",
    "    result = {\n",
    "        \"Usuario\": User_id,\n",
    "        \"Dinero gastado\": f\"{money_spent:.2f} USD\",\n",
    "        \"% de recomendacion\": f\"{recommend_percentage: .0%}\",\n",
    "        \"Cantidad de items\": items_count\n",
    "    }\n",
    "    return result"
   ]
  },
  {
   "cell_type": "markdown",
   "metadata": {},
   "source": [
    "# Endpoint 3\n",
    "- **def UserForGenre( genero : str ):** Debe devolver el usuario que acumula más horas jugadas para el género dado y una lista de la acumulación de horas jugadas por año de lanzamiento.\n",
    "Ejemplo de retorno: {\"Usuario con más horas jugadas para Género X\" : us213ndjss09sdf, \"Horas jugadas\":[{Año: 2013, Horas: 203}, {Año: 2012, Horas: 100}, {Año: 2011, Horas: 23}]}"
   ]
  },
  {
   "cell_type": "code",
   "execution_count": 5,
   "metadata": {},
   "outputs": [],
   "source": [
    "# Funcion para el endpoint 'UserForGenre'\n",
    "def UserForGenre(genero: str):\n",
    "    # Asegurarse de que 'item_id' sea del mismo tipo de datos en ambos DataFrames\n",
    "    df_UserItems['item_id'] = df_UserItems['item_id'].astype('int64')\n",
    "\n",
    "    # Filtrar el DataFrame de reseñas por el género específico\n",
    "    genre_reviews_df = df_UserReviews[df_UserReviews['genre'] == genero]\n",
    "\n",
    "    # Fusionar los DataFrames utilizando 'item_id' como clave\n",
    "    merged_df = df_UserItems.merge(genre_reviews_df[['item_id', 'year']], how='left', on='item_id')\n",
    "\n",
    "    # Manejar valores faltantes si es necesario\n",
    "    merged_df.fillna(0, inplace=True)\n",
    "\n",
    "    # Realizar las operaciones de agrupación y cálculo\n",
    "    total_hours_by_user_and_year = merged_df.groupby(['user_id', 'year'])['playtime_forever'].sum()\n",
    "    max_user = total_hours_by_user_and_year.idxmax()\n",
    "\n",
    "    # Generar la respuesta JSON\n",
    "    max_user_hours_by_year = total_hours_by_user_and_year.loc[max_user].reset_index()\n",
    "    max_user_hours_list = [{\"Año\": int(row['year']), \"Horas\": row['playtime_forever']} for _, row in max_user_hours_by_year.iterrows()]\n",
    "\n",
    "    result = {\n",
    "        \"Usuario con mas horas jugadas para Género {}\".format(genero): max_user,\n",
    "        \"Horas jugadas\": max_user_hours_list\n",
    "    }\n",
    "    return result\n"
   ]
  },
  {
   "cell_type": "markdown",
   "metadata": {},
   "source": [
    "# Endpoint 4\n",
    "- **def best_developer_year( año : int ):** Devuelve el top 3 de desarrolladores con juegos MÁS recomendados por usuarios para el año dado. (reviews.recommend = True y comentarios positivos)\n",
    "Ejemplo de retorno: [{\"Puesto 1\" : X}, {\"Puesto 2\" : Y},{\"Puesto 3\" : Z}]"
   ]
  },
  {
   "cell_type": "code",
   "execution_count": 6,
   "metadata": {},
   "outputs": [],
   "source": [
    "# Funcion para el endpoint 'best_developer_year\n",
    "def best_developer_year(año: int):\n",
    "    # Filtrar el DataFrame de reseñas por el año específico y por recomendaciones positivas\n",
    "    positive_reviews_df = df_UserReviews[(df_UserReviews['year'] == año) & (df_UserReviews['recommend'] == True) & (df_UserReviews['sentiment_analysis'].isin([1, 2]))]\n",
    "    \n",
    "    # Hacer un join entre las reseñas positivas y los juegos para obtener el nombre del juego y el desarrollador\n",
    "    merged_reviews = pd.merge(positive_reviews_df, df_SteamGames[['item_id', 'name', 'developer']], on='item_id', how='left')\n",
    "    \n",
    "    # Contar la cantidad de juegos recomendados por desarrollador\n",
    "    developer_count = merged_reviews['developer'].value_counts()\n",
    "    \n",
    "    # Seleccionar los top 3 de desarrolladores con más juegos recomendados\n",
    "    top_3_developers = developer_count.head(3)\n",
    "    \n",
    "    # Convertir el resultado a formato JSON\n",
    "    result = [{\"Puesto {}\".format(i+1): developer} for i, (developer, _) in enumerate(top_3_developers.items())]\n",
    "    return result"
   ]
  },
  {
   "cell_type": "markdown",
   "metadata": {},
   "source": [
    "# Endpoint 5\n",
    "- **def developer_reviews_analysis( desarrolladora : str ):** Según el desarrollador, se devuelve un diccionario con el nombre del desarrollador como llave y una lista con la cantidad total de registros de reseñas de usuarios que se encuentren categorizados con un análisis de sentimiento como valor positivo o negativo.\n",
    "Ejemplo de retorno: {'Valve' : [Negative = 182, Positive = 278]}"
   ]
  },
  {
   "cell_type": "code",
   "execution_count": 4,
   "metadata": {},
   "outputs": [],
   "source": [
    "# Función para el endpoint 'developer_reviews_analysis'\n",
    "def developer_reviews_analysis(desarrolladora: str):\n",
    "    # Filtrar las reseñas por desarrolladora específica en base a la tabla steam_games\n",
    "    filtered_reviews = df_UserReviews[df_UserReviews['name'].isin(df_SteamGames[df_SteamGames['developer'] == desarrolladora]['name'])]\n",
    "    \n",
    "    # Calcular el análisis de sentimiento\n",
    "    sentiment_counts = filtered_reviews['sentiment_analysis'].value_counts()\n",
    "    \n",
    "    # Obtener el nombre de la desarrolladora\n",
    "    developer_name = desarrolladora\n",
    "    \n",
    "    # Crear el diccionario de resultados\n",
    "    result = {developer_name: {\n",
    "        'Negative': sentiment_counts.get(0, 0),\n",
    "        'Neutral': sentiment_counts.get(1, 0),\n",
    "        'Positive': sentiment_counts.get(2, 0)\n",
    "    }}\n",
    "    \n",
    "    return result\n"
   ]
  },
  {
   "cell_type": "code",
   "execution_count": 4,
   "metadata": {},
   "outputs": [],
   "source": [
    "# Endpoint 6\n",
    "def recomendacion_juego(id: int):\n",
    "    if id not in df_Recomendacion['item_id'].values:\n",
    "        return {'mensaje': 'No existe el id del juego.'}\n",
    "    \n",
    "    titulo = df_Recomendacion.loc[df_Recomendacion['item_id'] == id, 'name'].iloc[0]\n",
    "    idx = df_Recomendacion[df_Recomendacion['name'] == titulo].index[0]\n",
    "    sim_cosine = list(enumerate(cosine_similarity[idx]))\n",
    "    sim_scores = sorted(sim_cosine, key=lambda x: x[1], reverse=True)\n",
    "    sim_ind = [i for i, _ in sim_scores[1:6]]\n",
    "    sim_juegos = df_Recomendacion['name'].iloc[sim_ind].values.tolist()\n",
    "    return {'juegos recomendados': list(sim_juegos)}\n",
    "\n"
   ]
  }
 ],
 "metadata": {
  "kernelspec": {
   "display_name": "Python 3",
   "language": "python",
   "name": "python3"
  },
  "language_info": {
   "codemirror_mode": {
    "name": "ipython",
    "version": 3
   },
   "file_extension": ".py",
   "mimetype": "text/x-python",
   "name": "python",
   "nbconvert_exporter": "python",
   "pygments_lexer": "ipython3",
   "version": "3.12.0"
  }
 },
 "nbformat": 4,
 "nbformat_minor": 2
}
